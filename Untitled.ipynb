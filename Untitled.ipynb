{
 "cells": [
  {
   "cell_type": "code",
   "execution_count": 2,
   "id": "blessed-former",
   "metadata": {},
   "outputs": [],
   "source": [
    "import matplotlib.pyplot as plt\n",
    "%matplotlib inline\n",
    "import numpy as np\n",
    "import pandas as pd \n",
    "\n",
    "from data import Data\n",
    "d = Data(5, 2, 200)"
   ]
  },
  {
   "cell_type": "code",
   "execution_count": 3,
   "id": "hidden-benefit",
   "metadata": {},
   "outputs": [],
   "source": [
    "data = []\n",
    "for point_i, point_j, label_info in d.iterate_triplets():\n",
    "  data.append(label_info)\n",
    "data = pd.DataFrame(data)\n",
    "# data = data.sort_values(by=['distance'])"
   ]
  },
  {
   "cell_type": "code",
   "execution_count": 5,
   "id": "pacific-violin",
   "metadata": {},
   "outputs": [
    {
     "data": {
      "text/plain": [
       "<matplotlib.collections.PathCollection at 0x7f7b4b490af0>"
      ]
     },
     "execution_count": 5,
     "metadata": {},
     "output_type": "execute_result"
    },
    {
     "data": {
      "image/png": "[encoded data removed]",
      "text/plain": [
       "<Figure size 432x288 with 1 Axes>"
      ]
     },
     "metadata": {
      "needs_background": "light"
     },
     "output_type": "display_data"
    }
   ],
   "source": [
    "# plt.scatter(np.arange(data.index.size), sorted(data['distance']))\n",
    "plt.scatter(np.arange(data.index.size), sorted(data['scaled_distance']))\n",
    "# in blue is the raw distance, in orange is 1/(1+e^-x)\n",
    "# my concern: scaled distance mostly falls between 0.3-0.7 so many labels are being flipped"
   ]
  },
  {
   "cell_type": "code",
   "execution_count": 11,
   "id": "following-listing",
   "metadata": {},
   "outputs": [
    {
     "data": {
      "image/png": "[encoded data removed]",
      "text/plain": [
       "<Figure size 432x288 with 1 Axes>"
      ]
     },
     "metadata": {
      "needs_background": "light"
     },
     "output_type": "display_data"
    }
   ],
   "source": [
    "_ = plt.hist(data['scaled_distance'], bins=20)"
   ]
  },
  {
   "cell_type": "code",
   "execution_count": null,
   "id": "eleven-greenhouse",
   "metadata": {},
   "outputs": [],
   "source": []
  }
 ],
 "metadata": {
  "kernelspec": {
   "display_name": "metric-learning",
   "language": "python",
   "name": "metric-learning"
  },
  "language_info": {
   "codemirror_mode": {
    "name": "ipython",
    "version": 3
   },
   "file_extension": ".py",
   "mimetype": "text/x-python",
   "name": "python",
   "nbconvert_exporter": "python",
   "pygments_lexer": "ipython3",
   "version": "3.8.5"
  }
 },
 "nbformat": 4,
 "nbformat_minor": 5
}
